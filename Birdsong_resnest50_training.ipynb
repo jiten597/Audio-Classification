{
  "nbformat": 4,
  "nbformat_minor": 0,
  "metadata": {
    "kernelspec": {
      "display_name": "Python 3",
      "language": "python",
      "name": "python3"
    },
    "language_info": {
      "codemirror_mode": {
        "name": "ipython",
        "version": 3
      },
      "file_extension": ".py",
      "mimetype": "text/x-python",
      "name": "python",
      "nbconvert_exporter": "python",
      "pygments_lexer": "ipython3",
      "version": "3.7.6"
    },
    "papermill": {
      "duration": 23151.16487,
      "end_time": "2020-09-10T02:42:54.396286",
      "environment_variables": {},
      "exception": null,
      "input_path": "__notebook__.ipynb",
      "output_path": "__notebook__.ipynb",
      "parameters": {},
      "start_time": "2020-09-09T20:17:03.231416",
      "version": "2.1.0"
    },
    "colab": {
      "name": "Birdsong-resnest50-training.ipynb",
      "provenance": [],
      "collapsed_sections": []
    }
  },
  "cells": [
    {
      "cell_type": "markdown",
      "metadata": {
        "papermill": {
          "duration": 0.017369,
          "end_time": "2020-09-09T20:17:07.438444",
          "exception": false,
          "start_time": "2020-09-09T20:17:07.421075",
          "status": "completed"
        },
        "tags": [],
        "id": "x6pxsOex7BYJ",
        "colab_type": "text"
      },
      "source": [
        "# Birdsong Pytorch Baseline: ResNeSt50-fast (Training)"
      ]
    },
    {
      "cell_type": "markdown",
      "metadata": {
        "papermill": {
          "duration": 0.013242,
          "end_time": "2020-09-09T20:17:07.493183",
          "exception": false,
          "start_time": "2020-09-09T20:17:07.479941",
          "status": "completed"
        },
        "tags": [],
        "id": "N9eC83Hw7BYN",
        "colab_type": "text"
      },
      "source": [
        "## Prepare"
      ]
    },
    {
      "cell_type": "markdown",
      "metadata": {
        "papermill": {
          "duration": 0.013369,
          "end_time": "2020-09-09T20:17:07.520557",
          "exception": false,
          "start_time": "2020-09-09T20:17:07.507188",
          "status": "completed"
        },
        "tags": [],
        "id": "5RBDENQv7BYN",
        "colab_type": "text"
      },
      "source": [
        "### import libraries"
      ]
    },
    {
      "cell_type": "code",
      "metadata": {
        "_kg_hide-output": true,
        "execution": {
          "iopub.execute_input": "2020-09-09T20:17:07.558038Z",
          "iopub.status.busy": "2020-09-09T20:17:07.557037Z",
          "iopub.status.idle": "2020-09-09T20:17:17.669984Z",
          "shell.execute_reply": "2020-09-09T20:17:17.670561Z"
        },
        "papermill": {
          "duration": 10.135795,
          "end_time": "2020-09-09T20:17:17.670752",
          "exception": false,
          "start_time": "2020-09-09T20:17:07.534957",
          "status": "completed"
        },
        "tags": [],
        "id": "W6GQK8fY7BYO",
        "colab_type": "code",
        "colab": {}
      },
      "source": [
        "%%bash\n",
        "pip install ../input/pytorch-pfn-extras/pytorch-pfn-extras-0.2.1/"
      ],
      "execution_count": null,
      "outputs": []
    },
    {
      "cell_type": "code",
      "metadata": {
        "_kg_hide-output": true,
        "execution": {
          "iopub.execute_input": "2020-09-09T20:17:17.707715Z",
          "iopub.status.busy": "2020-09-09T20:17:17.706510Z",
          "iopub.status.idle": "2020-09-09T20:17:26.764023Z",
          "shell.execute_reply": "2020-09-09T20:17:26.763259Z"
        },
        "papermill": {
          "duration": 9.078761,
          "end_time": "2020-09-09T20:17:26.764174",
          "exception": false,
          "start_time": "2020-09-09T20:17:17.685413",
          "status": "completed"
        },
        "tags": [],
        "id": "j7nWIdBe7BYT",
        "colab_type": "code",
        "colab": {}
      },
      "source": [
        "%%bash\n",
        "pip install ../input/resnest50-fast-package/resnest-0.0.6b20200701/resnest/"
      ],
      "execution_count": null,
      "outputs": []
    },
    {
      "cell_type": "code",
      "metadata": {
        "execution": {
          "iopub.execute_input": "2020-09-09T20:17:26.799829Z",
          "iopub.status.busy": "2020-09-09T20:17:26.798917Z",
          "iopub.status.idle": "2020-09-09T20:17:34.998400Z",
          "shell.execute_reply": "2020-09-09T20:17:34.999931Z"
        },
        "papermill": {
          "duration": 8.22001,
          "end_time": "2020-09-09T20:17:35.000197",
          "exception": false,
          "start_time": "2020-09-09T20:17:26.780187",
          "status": "completed"
        },
        "tags": [],
        "id": "vrv6jmYN7BYW",
        "colab_type": "code",
        "colab": {}
      },
      "source": [
        "pip install pydub"
      ],
      "execution_count": null,
      "outputs": []
    },
    {
      "cell_type": "code",
      "metadata": {
        "_cell_guid": "b1076dfc-b9ad-4769-8c92-a6c4dae69d19",
        "_uuid": "8f2839f25d086af736a60e9eeb907d3b93b6e0e5",
        "execution": {
          "iopub.execute_input": "2020-09-09T20:17:35.056877Z",
          "iopub.status.busy": "2020-09-09T20:17:35.055817Z",
          "iopub.status.idle": "2020-09-09T20:17:45.810562Z",
          "shell.execute_reply": "2020-09-09T20:17:45.812002Z"
        },
        "papermill": {
          "duration": 10.787638,
          "end_time": "2020-09-09T20:17:45.812237",
          "exception": false,
          "start_time": "2020-09-09T20:17:35.024599",
          "status": "completed"
        },
        "tags": [],
        "id": "bK4sbsKI7BYc",
        "colab_type": "code",
        "colab": {}
      },
      "source": [
        "import os\n",
        "import re\n",
        "import gc\n",
        "import time\n",
        "import shutil\n",
        "import random\n",
        "import warnings\n",
        "warnings.filterwarnings('ignore')\n",
        "import typing as tp\n",
        "from pathlib import Path\n",
        "from typing import Optional, List\n",
        "from contextlib import contextmanager\n",
        "\n",
        "import matplotlib.pyplot as plt\n",
        "import IPython.display as ipd\n",
        "from tqdm import tqdm\n",
        "from pydub import AudioSegment\n",
        "import albumentations\n",
        "from albumentations.augmentations import functional as F\n",
        "from albumentations.core.transforms_interface import DualTransform, BasicTransform\n",
        "\n",
        "import yaml\n",
        "from joblib import delayed, Parallel\n",
        "\n",
        "import cv2\n",
        "import librosa\n",
        "import audioread\n",
        "import soundfile as sf\n",
        "\n",
        "import numpy as np\n",
        "import pandas as pd\n",
        "\n",
        "from catalyst.dl import SupervisedRunner, State, CallbackOrder, Callback, CheckpointCallback\n",
        "\n",
        "from fastprogress import progress_bar\n",
        "from sklearn.model_selection import StratifiedKFold\n",
        "from sklearn.metrics import f1_score, average_precision_score\n",
        "\n",
        "import torch\n",
        "import torch.nn as nn\n",
        "import torch.nn.functional as F\n",
        "import torch.utils.data as data\n",
        "import resnest.torch as resnest_torch\n",
        "\n",
        "import pytorch_pfn_extras as ppe\n",
        "from pytorch_pfn_extras.training import extensions as ppe_extensions\n",
        "\n",
        "pd.options.display.max_rows = 500\n",
        "pd.options.display.max_columns = 500"
      ],
      "execution_count": null,
      "outputs": []
    },
    {
      "cell_type": "code",
      "metadata": {
        "execution": {
          "iopub.execute_input": "2020-09-09T20:17:45.866510Z",
          "iopub.status.busy": "2020-09-09T20:17:45.865582Z",
          "iopub.status.idle": "2020-09-09T20:17:45.869872Z",
          "shell.execute_reply": "2020-09-09T20:17:45.870655Z"
        },
        "papermill": {
          "duration": 0.034349,
          "end_time": "2020-09-09T20:17:45.870846",
          "exception": false,
          "start_time": "2020-09-09T20:17:45.836497",
          "status": "completed"
        },
        "tags": [],
        "id": "nE0dsMfg7BYi",
        "colab_type": "code",
        "colab": {}
      },
      "source": [
        "Path(\"/root/.cache/torch/checkpoints\").mkdir(parents=True)"
      ],
      "execution_count": null,
      "outputs": []
    },
    {
      "cell_type": "code",
      "metadata": {
        "execution": {
          "iopub.execute_input": "2020-09-09T20:17:45.951674Z",
          "iopub.status.busy": "2020-09-09T20:17:45.950690Z",
          "iopub.status.idle": "2020-09-09T20:17:48.519862Z",
          "shell.execute_reply": "2020-09-09T20:17:48.519056Z"
        },
        "papermill": {
          "duration": 2.603711,
          "end_time": "2020-09-09T20:17:48.519996",
          "exception": false,
          "start_time": "2020-09-09T20:17:45.916285",
          "status": "completed"
        },
        "tags": [],
        "id": "JNuGWPOt7BYl",
        "colab_type": "code",
        "colab": {}
      },
      "source": [
        "!cp ../input/resnest50-fast-package/resnest50_fast_*.pth /root/.cache/torch/checkpoints/"
      ],
      "execution_count": null,
      "outputs": []
    },
    {
      "cell_type": "markdown",
      "metadata": {
        "_cell_guid": "79c7e3d0-c299-4dcb-8224-4455121ee9b0",
        "_uuid": "d629ff2d2480ee46fbb7e2d37f6b5fab8052498a",
        "collapsed": true,
        "papermill": {
          "duration": 0.015103,
          "end_time": "2020-09-09T20:17:48.551144",
          "exception": false,
          "start_time": "2020-09-09T20:17:48.536041",
          "status": "completed"
        },
        "tags": [],
        "id": "WkChcEGo7BYp",
        "colab_type": "text"
      },
      "source": [
        "### define utilities"
      ]
    },
    {
      "cell_type": "code",
      "metadata": {
        "execution": {
          "iopub.execute_input": "2020-09-09T20:17:48.600082Z",
          "iopub.status.busy": "2020-09-09T20:17:48.599199Z",
          "iopub.status.idle": "2020-09-09T20:17:48.605046Z",
          "shell.execute_reply": "2020-09-09T20:17:48.605650Z"
        },
        "papermill": {
          "duration": 0.039846,
          "end_time": "2020-09-09T20:17:48.605781",
          "exception": false,
          "start_time": "2020-09-09T20:17:48.565935",
          "status": "completed"
        },
        "tags": [],
        "id": "ZV1y-AqQ7BYq",
        "colab_type": "code",
        "colab": {}
      },
      "source": [
        "import logging\n",
        "\n",
        "def set_seed(seed: int = 42):\n",
        "    random.seed(seed)\n",
        "    np.random.seed(seed)\n",
        "    os.environ[\"PYTHONHASHSEED\"] = str(seed)\n",
        "    torch.manual_seed(seed)\n",
        "    torch.cuda.manual_seed(seed)  # type: ignore\n",
        "    torch.backends.cudnn.deterministic = True  # type: ignore\n",
        "    torch.backends.cudnn.benchmark = True  # type: ignore\n",
        "\n",
        "\n",
        "def get_logger(out_file=None):\n",
        "    logger = logging.getLogger()\n",
        "    formatter = logging.Formatter(\"%(asctime)s - %(levelname)s - %(message)s\")\n",
        "    logger.handlers = []\n",
        "    logger.setLevel(logging.INFO)\n",
        "\n",
        "    handler = logging.StreamHandler()\n",
        "    handler.setFormatter(formatter)\n",
        "    handler.setLevel(logging.INFO)\n",
        "    logger.addHandler(handler)\n",
        "\n",
        "    if out_file is not None:\n",
        "        fh = logging.FileHandler(out_file)\n",
        "        fh.setFormatter(formatter)\n",
        "        fh.setLevel(logging.INFO)\n",
        "        logger.addHandler(fh)\n",
        "    logger.info(\"logger set up\")\n",
        "    return logger\n",
        "\n",
        "@contextmanager\n",
        "def timer(name: str, logger: Optional[logging.Logger] = None):\n",
        "    t0 = time.time()\n",
        "    msg = f\"[{name}] start\"\n",
        "    if logger is None:\n",
        "        print(msg)\n",
        "    else:\n",
        "        logger.info(msg)\n",
        "    yield\n",
        "\n",
        "    msg = f\"[{name}] done in {time.time() - t0:.2f} s\"\n",
        "    if logger is None:\n",
        "        print(msg)\n",
        "    else:\n",
        "        logger.info(msg)\n",
        "\n",
        "#def timer(name: str) -> None:\n",
        "#    \"\"\"Timer Util\"\"\"\n",
        "#    t0 = time.time()\n",
        "#    print(\"[{}] start\".format(name))\n",
        "#    yield\n",
        "#    print(\"[{}] done in {:.0f} s\".format(name, time.time() - t0))\n",
        "\n",
        "    \n",
        "set_seed(1213)"
      ],
      "execution_count": null,
      "outputs": []
    },
    {
      "cell_type": "markdown",
      "metadata": {
        "papermill": {
          "duration": 0.015385,
          "end_time": "2020-09-09T20:17:48.636415",
          "exception": false,
          "start_time": "2020-09-09T20:17:48.621030",
          "status": "completed"
        },
        "tags": [],
        "id": "QaLQukml7BYt",
        "colab_type": "text"
      },
      "source": [
        "### read data"
      ]
    },
    {
      "cell_type": "code",
      "metadata": {
        "execution": {
          "iopub.execute_input": "2020-09-09T20:17:48.675226Z",
          "iopub.status.busy": "2020-09-09T20:17:48.674180Z",
          "iopub.status.idle": "2020-09-09T20:17:48.677721Z",
          "shell.execute_reply": "2020-09-09T20:17:48.677195Z"
        },
        "papermill": {
          "duration": 0.025533,
          "end_time": "2020-09-09T20:17:48.677827",
          "exception": false,
          "start_time": "2020-09-09T20:17:48.652294",
          "status": "completed"
        },
        "tags": [],
        "id": "tool5By57BYu",
        "colab_type": "code",
        "colab": {}
      },
      "source": [
        "ROOT = Path.cwd().parent\n",
        "INPUT_ROOT = ROOT / \"input\"\n",
        "RAW_DATA = INPUT_ROOT / \"birdsong-recognition\"\n",
        "TRAIN_AUDIO_DIR = RAW_DATA / \"train_audio\"\n",
        "TRAIN_RESAMPLED_AUDIO_DIRS = [\n",
        "  INPUT_ROOT / \"birdsong-resampled-train-audio-{:0>2}\".format(i)  for i in range(5)\n",
        "]\n",
        "TEST_AUDIO_DIR = RAW_DATA / \"test_audio\""
      ],
      "execution_count": null,
      "outputs": []
    },
    {
      "cell_type": "code",
      "metadata": {
        "execution": {
          "iopub.execute_input": "2020-09-09T20:17:48.719513Z",
          "iopub.status.busy": "2020-09-09T20:17:48.718831Z",
          "iopub.status.idle": "2020-09-09T20:17:49.039271Z",
          "shell.execute_reply": "2020-09-09T20:17:49.038608Z"
        },
        "papermill": {
          "duration": 0.346779,
          "end_time": "2020-09-09T20:17:49.039459",
          "exception": false,
          "start_time": "2020-09-09T20:17:48.692680",
          "status": "completed"
        },
        "tags": [],
        "id": "qShN5d_87BY1",
        "colab_type": "code",
        "colab": {}
      },
      "source": [
        "# train = pd.read_csv(RAW_DATA / \"train.csv\")\n",
        "train = pd.read_csv(TRAIN_RESAMPLED_AUDIO_DIRS[0] / \"train_mod.csv\")\n",
        "\n",
        "if not TEST_AUDIO_DIR.exists():\n",
        "    TEST_AUDIO_DIR = INPUT_ROOT / \"birdcall-check\" / \"test_audio\"\n",
        "    test = pd.read_csv(INPUT_ROOT / \"birdcall-check\" / \"test.csv\")\n",
        "else:\n",
        "    test = pd.read_csv(RAW_DATA / \"test.csv\")"
      ],
      "execution_count": null,
      "outputs": []
    },
    {
      "cell_type": "markdown",
      "metadata": {
        "papermill": {
          "duration": 0.015581,
          "end_time": "2020-09-09T20:17:49.071180",
          "exception": false,
          "start_time": "2020-09-09T20:17:49.055599",
          "status": "completed"
        },
        "tags": [],
        "id": "JqZUQrJK7BY4",
        "colab_type": "text"
      },
      "source": [
        "### settings"
      ]
    },
    {
      "cell_type": "code",
      "metadata": {
        "_kg_hide-input": true,
        "execution": {
          "iopub.execute_input": "2020-09-09T20:17:49.108432Z",
          "iopub.status.busy": "2020-09-09T20:17:49.107542Z",
          "iopub.status.idle": "2020-09-09T20:17:49.110955Z",
          "shell.execute_reply": "2020-09-09T20:17:49.110250Z"
        },
        "papermill": {
          "duration": 0.024316,
          "end_time": "2020-09-09T20:17:49.111070",
          "exception": false,
          "start_time": "2020-09-09T20:17:49.086754",
          "status": "completed"
        },
        "tags": [],
        "id": "MTi6AI2l7BY5",
        "colab_type": "code",
        "colab": {}
      },
      "source": [
        "settings_str = \"\"\"\n",
        "globals:\n",
        "  seed: 1213\n",
        "  device: cuda\n",
        "  num_epochs: 35\n",
        "  output_dir: /kaggle/training_output/\n",
        "  use_fold: 0\n",
        "  target_sr: 32000\n",
        "\n",
        "dataset:\n",
        "  name: SpectrogramDataset\n",
        "  params:\n",
        "    img_size: 224\n",
        "    melspectrogram_parameters:\n",
        "      n_mels: 128\n",
        "      fmin: 20\n",
        "      fmax: 16000\n",
        "    \n",
        "split:\n",
        "  name: StratifiedKFold\n",
        "  params:\n",
        "    n_splits: 5\n",
        "    random_state: 42\n",
        "    shuffle: True\n",
        "\n",
        "loader:\n",
        "  train:\n",
        "    batch_size: 50\n",
        "    shuffle: True\n",
        "    num_workers: 2\n",
        "    pin_memory: True\n",
        "    drop_last: True\n",
        "  val:\n",
        "    batch_size: 100\n",
        "    shuffle: False\n",
        "    num_workers: 2\n",
        "    pin_memory: True\n",
        "    drop_last: False\n",
        "\n",
        "model:\n",
        "  name: resnest50_fast_1s1x64d\n",
        "  params:\n",
        "    pretrained: True\n",
        "    n_classes: 264\n",
        "\n",
        "loss:\n",
        "  name: BCEWithLogitsLoss\n",
        "  params: {}\n",
        "\n",
        "optimizer:\n",
        "  name: Adam\n",
        "  params:\n",
        "    lr: 0.001\n",
        "\n",
        "scheduler:\n",
        "  name: CosineAnnealingLR\n",
        "  params:\n",
        "    T_max: 10\n",
        "\"\"\""
      ],
      "execution_count": null,
      "outputs": []
    },
    {
      "cell_type": "code",
      "metadata": {
        "execution": {
          "iopub.execute_input": "2020-09-09T20:17:49.163734Z",
          "iopub.status.busy": "2020-09-09T20:17:49.162881Z",
          "iopub.status.idle": "2020-09-09T20:17:49.167128Z",
          "shell.execute_reply": "2020-09-09T20:17:49.167702Z"
        },
        "papermill": {
          "duration": 0.041207,
          "end_time": "2020-09-09T20:17:49.167843",
          "exception": false,
          "start_time": "2020-09-09T20:17:49.126636",
          "status": "completed"
        },
        "tags": [],
        "id": "g8keVP6X7BY8",
        "colab_type": "code",
        "colab": {}
      },
      "source": [
        "settings = yaml.safe_load(settings_str)\n",
        "settings"
      ],
      "execution_count": null,
      "outputs": []
    },
    {
      "cell_type": "code",
      "metadata": {
        "execution": {
          "iopub.execute_input": "2020-09-09T20:17:49.205234Z",
          "iopub.status.busy": "2020-09-09T20:17:49.204234Z",
          "iopub.status.idle": "2020-09-09T20:17:49.207896Z",
          "shell.execute_reply": "2020-09-09T20:17:49.208451Z"
        },
        "papermill": {
          "duration": 0.02449,
          "end_time": "2020-09-09T20:17:49.208578",
          "exception": false,
          "start_time": "2020-09-09T20:17:49.184088",
          "status": "completed"
        },
        "tags": [],
        "id": "sbKWSXHF7BZB",
        "colab_type": "code",
        "colab": {}
      },
      "source": [
        "settings['globals']"
      ],
      "execution_count": null,
      "outputs": []
    },
    {
      "cell_type": "code",
      "metadata": {
        "execution": {
          "iopub.execute_input": "2020-09-09T20:17:49.603135Z",
          "iopub.status.busy": "2020-09-09T20:17:49.602088Z",
          "iopub.status.idle": "2020-09-09T20:17:49.605890Z",
          "shell.execute_reply": "2020-09-09T20:17:49.605265Z"
        },
        "papermill": {
          "duration": 0.381764,
          "end_time": "2020-09-09T20:17:49.606010",
          "exception": false,
          "start_time": "2020-09-09T20:17:49.224246",
          "status": "completed"
        },
        "tags": [],
        "id": "ML6_cvzC7BZF",
        "colab_type": "code",
        "colab": {}
      },
      "source": [
        "if not torch.cuda.is_available():\n",
        "    settings[\"globals\"][\"device\"] = \"cpu\""
      ],
      "execution_count": null,
      "outputs": []
    },
    {
      "cell_type": "code",
      "metadata": {
        "_kg_hide-output": false,
        "execution": {
          "iopub.execute_input": "2020-09-09T20:17:49.651672Z",
          "iopub.status.busy": "2020-09-09T20:17:49.647960Z",
          "iopub.status.idle": "2020-09-09T20:17:49.655878Z",
          "shell.execute_reply": "2020-09-09T20:17:49.655020Z"
        },
        "papermill": {
          "duration": 0.032992,
          "end_time": "2020-09-09T20:17:49.656027",
          "exception": false,
          "start_time": "2020-09-09T20:17:49.623035",
          "status": "completed"
        },
        "tags": [],
        "id": "dH2RLw0O7BZI",
        "colab_type": "code",
        "colab": {}
      },
      "source": [
        "for k, v in settings.items():\n",
        "    print(f\"[{k}]\")\n",
        "    print(f\"{v}\\n\")"
      ],
      "execution_count": null,
      "outputs": []
    },
    {
      "cell_type": "markdown",
      "metadata": {
        "papermill": {
          "duration": 0.024048,
          "end_time": "2020-09-09T20:17:49.705283",
          "exception": false,
          "start_time": "2020-09-09T20:17:49.681235",
          "status": "completed"
        },
        "tags": [],
        "id": "wnxMDJeC7BZM",
        "colab_type": "text"
      },
      "source": [
        "# Training Data"
      ]
    },
    {
      "cell_type": "code",
      "metadata": {
        "execution": {
          "iopub.execute_input": "2020-09-09T20:17:49.762355Z",
          "iopub.status.busy": "2020-09-09T20:17:49.761662Z",
          "iopub.status.idle": "2020-09-09T20:17:51.343405Z",
          "shell.execute_reply": "2020-09-09T20:17:51.342788Z"
        },
        "papermill": {
          "duration": 1.614375,
          "end_time": "2020-09-09T20:17:51.343552",
          "exception": false,
          "start_time": "2020-09-09T20:17:49.729177",
          "status": "completed"
        },
        "tags": [],
        "id": "q8uGZV_U7BZM",
        "colab_type": "code",
        "colab": {}
      },
      "source": [
        "tmp_list = []\n",
        "for audio_d in TRAIN_RESAMPLED_AUDIO_DIRS:\n",
        "    if not audio_d.exists():\n",
        "        continue\n",
        "    for ebird_d in audio_d.iterdir():\n",
        "        if ebird_d.is_file():\n",
        "            continue\n",
        "        for wav_f in ebird_d.iterdir():\n",
        "            tmp_list.append([ebird_d.name, wav_f.name, wav_f.as_posix()])\n",
        "            \n",
        "train_wav_path_exist = pd.DataFrame(\n",
        "    tmp_list, columns=[\"ebird_code\", \"resampled_filename\", \"file_path\"])\n",
        "\n",
        "del tmp_list\n",
        "\n",
        "train_all = pd.merge(\n",
        "    train, train_wav_path_exist, on=[\"ebird_code\", \"resampled_filename\"], how=\"inner\")\n",
        "\n",
        "print(train.shape)\n",
        "print(train_wav_path_exist.shape)\n",
        "print(train_all.shape)"
      ],
      "execution_count": null,
      "outputs": []
    },
    {
      "cell_type": "code",
      "metadata": {
        "execution": {
          "iopub.execute_input": "2020-09-09T20:17:51.384836Z",
          "iopub.status.busy": "2020-09-09T20:17:51.383747Z",
          "iopub.status.idle": "2020-09-09T20:17:51.424385Z",
          "shell.execute_reply": "2020-09-09T20:17:51.423722Z"
        },
        "papermill": {
          "duration": 0.064275,
          "end_time": "2020-09-09T20:17:51.424506",
          "exception": false,
          "start_time": "2020-09-09T20:17:51.360231",
          "status": "completed"
        },
        "tags": [],
        "id": "L8D02FxV7BZQ",
        "colab_type": "code",
        "colab": {}
      },
      "source": [
        "train_all_list = train_all[[\"file_path\", \"ebird_code\"]].values.tolist()\n",
        "print(type(train_all_list))\n",
        "print(len(train_all_list))\n",
        "train_all_list[21374]"
      ],
      "execution_count": null,
      "outputs": []
    },
    {
      "cell_type": "code",
      "metadata": {
        "execution": {
          "iopub.execute_input": "2020-09-09T20:17:51.493961Z",
          "iopub.status.busy": "2020-09-09T20:17:51.492118Z",
          "iopub.status.idle": "2020-09-09T20:17:51.551997Z",
          "shell.execute_reply": "2020-09-09T20:17:51.553283Z"
        },
        "papermill": {
          "duration": 0.111723,
          "end_time": "2020-09-09T20:17:51.553501",
          "exception": false,
          "start_time": "2020-09-09T20:17:51.441778",
          "status": "completed"
        },
        "tags": [],
        "id": "JgJ0QIFR7BZU",
        "colab_type": "code",
        "colab": {}
      },
      "source": [
        "skf = StratifiedKFold(**settings[\"split\"][\"params\"])\n",
        "\n",
        "train_all[\"fold\"] = -1\n",
        "for fold_id, (train_index, val_index) in enumerate(skf.split(train_all, train_all[\"ebird_code\"])):\n",
        "    train_all.iloc[val_index, -1] = fold_id\n",
        "    \n",
        "######## check the propotion\n",
        "fold_proportion = pd.pivot_table(train_all, index=\"ebird_code\", columns=\"fold\", values=\"xc_id\", aggfunc=len)\n",
        "print(fold_proportion.shape)"
      ],
      "execution_count": null,
      "outputs": []
    },
    {
      "cell_type": "code",
      "metadata": {
        "execution": {
          "iopub.execute_input": "2020-09-09T20:17:51.601099Z",
          "iopub.status.busy": "2020-09-09T20:17:51.600009Z",
          "iopub.status.idle": "2020-09-09T20:17:51.864813Z",
          "shell.execute_reply": "2020-09-09T20:17:51.865610Z"
        },
        "papermill": {
          "duration": 0.293052,
          "end_time": "2020-09-09T20:17:51.865789",
          "exception": false,
          "start_time": "2020-09-09T20:17:51.572737",
          "status": "completed"
        },
        "tags": [],
        "id": "R5THz-np7BZZ",
        "colab_type": "code",
        "colab": {}
      },
      "source": [
        "######## Use Fold\n",
        "use_fold = 0\n",
        "train_file_list = train_all.query(\"fold != @use_fold\")[[\"file_path\", \"ebird_code\"]].values.tolist()\n",
        "val_file_list = train_all.query(\"fold == @use_fold\")[[\"file_path\", \"ebird_code\"]].values.tolist()\n",
        "\n",
        "print(\"[fold {}] train: {}, val: {}\".format(use_fold, len(train_file_list), len(val_file_list)))"
      ],
      "execution_count": null,
      "outputs": []
    },
    {
      "cell_type": "code",
      "metadata": {
        "execution": {
          "iopub.execute_input": "2020-09-09T20:17:51.908112Z",
          "iopub.status.busy": "2020-09-09T20:17:51.907190Z",
          "iopub.status.idle": "2020-09-09T20:17:51.914018Z",
          "shell.execute_reply": "2020-09-09T20:17:51.913138Z"
        },
        "papermill": {
          "duration": 0.030322,
          "end_time": "2020-09-09T20:17:51.914161",
          "exception": false,
          "start_time": "2020-09-09T20:17:51.883839",
          "status": "completed"
        },
        "tags": [],
        "id": "MHoaIiEr7BZc",
        "colab_type": "code",
        "colab": {}
      },
      "source": [
        "print(type(train_file_list))\n",
        "print(len(train_file_list))\n",
        "print(train_file_list[1425])\n",
        "print(type(val_file_list))\n",
        "print(len(val_file_list))\n",
        "print(val_file_list[1425])"
      ],
      "execution_count": null,
      "outputs": []
    },
    {
      "cell_type": "code",
      "metadata": {
        "execution": {
          "iopub.execute_input": "2020-09-09T20:17:51.967272Z",
          "iopub.status.busy": "2020-09-09T20:17:51.962013Z",
          "iopub.status.idle": "2020-09-09T20:17:51.994049Z",
          "shell.execute_reply": "2020-09-09T20:17:51.993527Z"
        },
        "papermill": {
          "duration": 0.062247,
          "end_time": "2020-09-09T20:17:51.994158",
          "exception": false,
          "start_time": "2020-09-09T20:17:51.931911",
          "status": "completed"
        },
        "tags": [],
        "id": "3sMZgThT7BZf",
        "colab_type": "code",
        "colab": {}
      },
      "source": [
        "BIRD_CODE = {\n",
        "    'aldfly': 0, 'ameavo': 1, 'amebit': 2, 'amecro': 3, 'amegfi': 4,\n",
        "    'amekes': 5, 'amepip': 6, 'amered': 7, 'amerob': 8, 'amewig': 9,\n",
        "    'amewoo': 10, 'amtspa': 11, 'annhum': 12, 'astfly': 13, 'baisan': 14,\n",
        "    'baleag': 15, 'balori': 16, 'banswa': 17, 'barswa': 18, 'bawwar': 19,\n",
        "    'belkin1': 20, 'belspa2': 21, 'bewwre': 22, 'bkbcuc': 23, 'bkbmag1': 24,\n",
        "    'bkbwar': 25, 'bkcchi': 26, 'bkchum': 27, 'bkhgro': 28, 'bkpwar': 29,\n",
        "    'bktspa': 30, 'blkpho': 31, 'blugrb1': 32, 'blujay': 33, 'bnhcow': 34,\n",
        "    'boboli': 35, 'bongul': 36, 'brdowl': 37, 'brebla': 38, 'brespa': 39,\n",
        "    'brncre': 40, 'brnthr': 41, 'brthum': 42, 'brwhaw': 43, 'btbwar': 44,\n",
        "    'btnwar': 45, 'btywar': 46, 'buffle': 47, 'buggna': 48, 'buhvir': 49,\n",
        "    'bulori': 50, 'bushti': 51, 'buwtea': 52, 'buwwar': 53, 'cacwre': 54,\n",
        "    'calgul': 55, 'calqua': 56, 'camwar': 57, 'cangoo': 58, 'canwar': 59,\n",
        "    'canwre': 60, 'carwre': 61, 'casfin': 62, 'caster1': 63, 'casvir': 64,\n",
        "    'cedwax': 65, 'chispa': 66, 'chiswi': 67, 'chswar': 68, 'chukar': 69,\n",
        "    'clanut': 70, 'cliswa': 71, 'comgol': 72, 'comgra': 73, 'comloo': 74,\n",
        "    'commer': 75, 'comnig': 76, 'comrav': 77, 'comred': 78, 'comter': 79,\n",
        "    'comyel': 80, 'coohaw': 81, 'coshum': 82, 'cowscj1': 83, 'daejun': 84,\n",
        "    'doccor': 85, 'dowwoo': 86, 'dusfly': 87, 'eargre': 88, 'easblu': 89,\n",
        "    'easkin': 90, 'easmea': 91, 'easpho': 92, 'eastow': 93, 'eawpew': 94,\n",
        "    'eucdov': 95, 'eursta': 96, 'evegro': 97, 'fiespa': 98, 'fiscro': 99,\n",
        "    'foxspa': 100, 'gadwal': 101, 'gcrfin': 102, 'gnttow': 103, 'gnwtea': 104,\n",
        "    'gockin': 105, 'gocspa': 106, 'goleag': 107, 'grbher3': 108, 'grcfly': 109,\n",
        "    'greegr': 110, 'greroa': 111, 'greyel': 112, 'grhowl': 113, 'grnher': 114,\n",
        "    'grtgra': 115, 'grycat': 116, 'gryfly': 117, 'haiwoo': 118, 'hamfly': 119,\n",
        "    'hergul': 120, 'herthr': 121, 'hoomer': 122, 'hoowar': 123, 'horgre': 124,\n",
        "    'horlar': 125, 'houfin': 126, 'houspa': 127, 'houwre': 128, 'indbun': 129,\n",
        "    'juntit1': 130, 'killde': 131, 'labwoo': 132, 'larspa': 133, 'lazbun': 134,\n",
        "    'leabit': 135, 'leafly': 136, 'leasan': 137, 'lecthr': 138, 'lesgol': 139,\n",
        "    'lesnig': 140, 'lesyel': 141, 'lewwoo': 142, 'linspa': 143, 'lobcur': 144,\n",
        "    'lobdow': 145, 'logshr': 146, 'lotduc': 147, 'louwat': 148, 'macwar': 149,\n",
        "    'magwar': 150, 'mallar3': 151, 'marwre': 152, 'merlin': 153, 'moublu': 154,\n",
        "    'mouchi': 155, 'moudov': 156, 'norcar': 157, 'norfli': 158, 'norhar2': 159,\n",
        "    'normoc': 160, 'norpar': 161, 'norpin': 162, 'norsho': 163, 'norwat': 164,\n",
        "    'nrwswa': 165, 'nutwoo': 166, 'olsfly': 167, 'orcwar': 168, 'osprey': 169,\n",
        "    'ovenbi1': 170, 'palwar': 171, 'pasfly': 172, 'pecsan': 173, 'perfal': 174,\n",
        "    'phaino': 175, 'pibgre': 176, 'pilwoo': 177, 'pingro': 178, 'pinjay': 179,\n",
        "    'pinsis': 180, 'pinwar': 181, 'plsvir': 182, 'prawar': 183, 'purfin': 184,\n",
        "    'pygnut': 185, 'rebmer': 186, 'rebnut': 187, 'rebsap': 188, 'rebwoo': 189,\n",
        "    'redcro': 190, 'redhea': 191, 'reevir1': 192, 'renpha': 193, 'reshaw': 194,\n",
        "    'rethaw': 195, 'rewbla': 196, 'ribgul': 197, 'rinduc': 198, 'robgro': 199,\n",
        "    'rocpig': 200, 'rocwre': 201, 'rthhum': 202, 'ruckin': 203, 'rudduc': 204,\n",
        "    'rufgro': 205, 'rufhum': 206, 'rusbla': 207, 'sagspa1': 208, 'sagthr': 209,\n",
        "    'savspa': 210, 'saypho': 211, 'scatan': 212, 'scoori': 213, 'semplo': 214,\n",
        "    'semsan': 215, 'sheowl': 216, 'shshaw': 217, 'snobun': 218, 'snogoo': 219,\n",
        "    'solsan': 220, 'sonspa': 221, 'sora': 222, 'sposan': 223, 'spotow': 224,\n",
        "    'stejay': 225, 'swahaw': 226, 'swaspa': 227, 'swathr': 228, 'treswa': 229,\n",
        "    'truswa': 230, 'tuftit': 231, 'tunswa': 232, 'veery': 233, 'vesspa': 234,\n",
        "    'vigswa': 235, 'warvir': 236, 'wesblu': 237, 'wesgre': 238, 'weskin': 239,\n",
        "    'wesmea': 240, 'wessan': 241, 'westan': 242, 'wewpew': 243, 'whbnut': 244,\n",
        "    'whcspa': 245, 'whfibi': 246, 'whtspa': 247, 'whtswi': 248, 'wilfly': 249,\n",
        "    'wilsni1': 250, 'wiltur': 251, 'winwre3': 252, 'wlswar': 253, 'wooduc': 254,\n",
        "    'wooscj2': 255, 'woothr': 256, 'y00475': 257, 'yebfly': 258, 'yebsap': 259,\n",
        "    'yehbla': 260, 'yelwar': 261, 'yerwar': 262, 'yetvir': 263\n",
        "}\n",
        "\n",
        "INV_BIRD_CODE = {v: k for k, v in BIRD_CODE.items()}"
      ],
      "execution_count": null,
      "outputs": []
    },
    {
      "cell_type": "markdown",
      "metadata": {
        "papermill": {
          "duration": 0.017074,
          "end_time": "2020-09-09T20:17:52.249022",
          "exception": false,
          "start_time": "2020-09-09T20:17:52.231948",
          "status": "completed"
        },
        "tags": [],
        "id": "5wFAQhtM7BZx",
        "colab_type": "text"
      },
      "source": [
        "# MelSpectrogram -> Augmentation "
      ]
    },
    {
      "cell_type": "code",
      "metadata": {
        "execution": {
          "iopub.execute_input": "2020-09-09T20:17:52.348803Z",
          "iopub.status.busy": "2020-09-09T20:17:52.348012Z",
          "iopub.status.idle": "2020-09-09T20:17:52.352182Z",
          "shell.execute_reply": "2020-09-09T20:17:52.351691Z"
        },
        "papermill": {
          "duration": 0.03067,
          "end_time": "2020-09-09T20:17:52.352283",
          "exception": false,
          "start_time": "2020-09-09T20:17:52.321613",
          "status": "completed"
        },
        "tags": [],
        "id": "twlkWfVA7BZ3",
        "colab_type": "code",
        "colab": {}
      },
      "source": [
        "def spec_augment(spec: np.ndarray, num_mask=2, freq_masking_max_percentage=0.15, time_masking_max_percentage=0.15):\n",
        "    spec = spec.copy()\n",
        "    for i in range(num_mask):\n",
        "        num_freqs, num_frames = spec.shape\n",
        "        freq_percentage = random.uniform(0.0, freq_masking_max_percentage)\n",
        "        time_percentage = random.uniform(0.0, time_masking_max_percentage)\n",
        "        \n",
        "        num_freqs_to_mask = int(freq_percentage * num_freqs)\n",
        "        num_frames_to_mask = int(time_percentage * num_frames)\n",
        "        \n",
        "        t0 = int(np.random.uniform(low=0.0, high=num_frames - num_frames_to_mask))\n",
        "        f0 = int(np.random.uniform(low=0.0, high=num_freqs - num_freqs_to_mask))\n",
        "        \n",
        "        spec[:, t0:t0 + num_frames_to_mask] = 0      \n",
        "        spec[f0:f0 + num_freqs_to_mask, :] = 0 \n",
        "        \n",
        "    return spec"
      ],
      "execution_count": null,
      "outputs": []
    },
    {
      "cell_type": "code",
      "metadata": {
        "execution": {
          "iopub.execute_input": "2020-09-09T20:17:52.405425Z",
          "iopub.status.busy": "2020-09-09T20:17:52.389645Z",
          "iopub.status.idle": "2020-09-09T20:17:52.418043Z",
          "shell.execute_reply": "2020-09-09T20:17:52.417520Z"
        },
        "papermill": {
          "duration": 0.048765,
          "end_time": "2020-09-09T20:17:52.418152",
          "exception": false,
          "start_time": "2020-09-09T20:17:52.369387",
          "status": "completed"
        },
        "tags": [],
        "id": "OVnZeXLp7BZ6",
        "colab_type": "code",
        "colab": {}
      },
      "source": [
        "PERIOD = 5\n",
        "\n",
        "def mono_to_color(\n",
        "    X: np.ndarray, mean=None, std=None,\n",
        "    norm_max=None, norm_min=None, eps=1e-6\n",
        "):\n",
        "    # Stack X as [X,X,X]\n",
        "    X = np.stack([X, X, X], axis=-1)\n",
        "\n",
        "    # Standardize\n",
        "    mean = mean or X.mean()\n",
        "    X = X - mean\n",
        "    std = std or X.std()\n",
        "    Xstd = X / (std + eps)\n",
        "    _min, _max = Xstd.min(), Xstd.max()\n",
        "    norm_max = norm_max or _max\n",
        "    norm_min = norm_min or _min\n",
        "    if (_max - _min) > eps:\n",
        "        # Normalize to [0, 255]\n",
        "        V = Xstd\n",
        "        V[V < norm_min] = norm_min\n",
        "        V[V > norm_max] = norm_max\n",
        "        V = 255 * (V - norm_min) / (norm_max - norm_min)\n",
        "        V = V.astype(np.uint8)\n",
        "    else:\n",
        "        # Just zero\n",
        "        V = np.zeros_like(Xstd, dtype=np.uint8)\n",
        "    return V\n",
        "\n",
        "class SpectrogramDataset(data.Dataset):\n",
        "    def __init__(self, file_list: tp.List[tp.List[str]], img_size=224,\n",
        "        waveform_transforms=None, spectrogram_transforms=None, melspectrogram_parameters={}\n",
        "    ):\n",
        "        self.file_list = file_list  # list of list: [file_path, ebird_code]\n",
        "        self.img_size = img_size\n",
        "        self.waveform_transforms = waveform_transforms\n",
        "        self.spectrogram_transforms = spectrogram_transforms\n",
        "        self.melspectrogram_parameters = melspectrogram_parameters\n",
        "\n",
        "    def __len__(self):\n",
        "        return len(self.file_list)\n",
        "\n",
        "    def __getitem__(self, idx: int):\n",
        "        wav_path, ebird_code = self.file_list[idx]\n",
        "\n",
        "        y, sr = sf.read(wav_path)\n",
        "\n",
        "        if self.waveform_transforms:\n",
        "            y = self.waveform_transforms(y)\n",
        "        else:\n",
        "            len_y = len(y)\n",
        "            effective_length = sr * PERIOD\n",
        "            if len_y < effective_length:\n",
        "                new_y = np.zeros(effective_length, dtype=y.dtype)\n",
        "                start = np.random.randint(effective_length - len_y)\n",
        "                new_y[start:start + len_y] = y\n",
        "                y = new_y.astype(np.float32)\n",
        "            elif len_y > effective_length:\n",
        "                start = np.random.randint(len_y - effective_length)\n",
        "                y = y[start:start + effective_length].astype(np.float32)\n",
        "            else:\n",
        "                y = y.astype(np.float32)\n",
        "\n",
        "        melspec = librosa.feature.melspectrogram(y, sr=sr, **self.melspectrogram_parameters)\n",
        "        melspec = librosa.power_to_db(melspec).astype(np.float32)\n",
        "\n",
        "        if self.spectrogram_transforms:\n",
        "            melspec = spec_augment(melspec)\n",
        "        else:\n",
        "            pass\n",
        "\n",
        "        image = mono_to_color(melspec)\n",
        "        height, width, _ = image.shape\n",
        "        image = cv2.resize(image, (int(width * self.img_size / height), self.img_size))\n",
        "        image = np.moveaxis(image, 2, 0)\n",
        "        image = (image / 255.0).astype(np.float32)\n",
        "\n",
        "        labels = np.zeros(len(BIRD_CODE), dtype=\"f\")\n",
        "        labels[BIRD_CODE[ebird_code]] = 1\n",
        "\n",
        "        return image, labels"
      ],
      "execution_count": null,
      "outputs": []
    },
    {
      "cell_type": "code",
      "metadata": {
        "execution": {
          "iopub.execute_input": "2020-09-09T20:17:52.665276Z",
          "iopub.status.busy": "2020-09-09T20:17:52.664504Z",
          "iopub.status.idle": "2020-09-09T20:17:52.668205Z",
          "shell.execute_reply": "2020-09-09T20:17:52.667695Z"
        },
        "papermill": {
          "duration": 0.02858,
          "end_time": "2020-09-09T20:17:52.668298",
          "exception": false,
          "start_time": "2020-09-09T20:17:52.639718",
          "status": "completed"
        },
        "tags": [],
        "id": "xnnoke7n7BaH",
        "colab_type": "code",
        "colab": {}
      },
      "source": [
        "def plot_imgs(dataset_show):\n",
        "    from pylab import rcParams\n",
        "    rcParams['figure.figsize'] = 20,10\n",
        "    #for i in range(2):\n",
        "    f, axarr = plt.subplots(1,5)\n",
        "    for p in range(5):\n",
        "        idx = np.random.randint(0, len(dataset_show))\n",
        "        img, label = dataset_show[idx]\n",
        "        axarr[p].imshow(img.transpose(0, 1).transpose(1,2).squeeze())\n",
        "        axarr[p].set_title(label)"
      ],
      "execution_count": null,
      "outputs": []
    },
    {
      "cell_type": "markdown",
      "metadata": {
        "papermill": {
          "duration": 0.023218,
          "end_time": "2020-09-09T20:17:55.437985",
          "exception": false,
          "start_time": "2020-09-09T20:17:55.414767",
          "status": "completed"
        },
        "tags": [],
        "id": "QaBwYoc87Bah",
        "colab_type": "text"
      },
      "source": [
        "### Training Utility"
      ]
    },
    {
      "cell_type": "code",
      "metadata": {
        "_kg_hide-input": true,
        "execution": {
          "iopub.execute_input": "2020-09-09T20:17:55.495761Z",
          "iopub.status.busy": "2020-09-09T20:17:55.494715Z",
          "iopub.status.idle": "2020-09-09T20:17:55.499000Z",
          "shell.execute_reply": "2020-09-09T20:17:55.498358Z"
        },
        "papermill": {
          "duration": 0.03783,
          "end_time": "2020-09-09T20:17:55.499118",
          "exception": false,
          "start_time": "2020-09-09T20:17:55.461288",
          "status": "completed"
        },
        "tags": [],
        "id": "o5JTjTaE7Bah",
        "colab_type": "code",
        "colab": {}
      },
      "source": [
        "def get_model(args: tp.Dict):\n",
        "    model = getattr(resnest_torch, args[\"name\"])(pretrained=args[\"params\"][\"pretrained\"])\n",
        "    del model.fc\n",
        "    # # use the same head as the baseline notebook.\n",
        "    model.fc = nn.Sequential(\n",
        "        nn.Linear(2048, 1024), nn.ReLU(), nn.Dropout(p=0.2),\n",
        "        nn.Linear(1024, 1024), nn.ReLU(), nn.Dropout(p=0.2),\n",
        "        nn.Linear(1024, args[\"params\"][\"n_classes\"]))\n",
        "    \n",
        "    return model"
      ],
      "execution_count": null,
      "outputs": []
    },
    {
      "cell_type": "code",
      "metadata": {
        "execution": {
          "iopub.execute_input": "2020-09-09T20:17:55.561813Z",
          "iopub.status.busy": "2020-09-09T20:17:55.559451Z",
          "iopub.status.idle": "2020-09-09T20:17:55.565514Z",
          "shell.execute_reply": "2020-09-09T20:17:55.564802Z"
        },
        "papermill": {
          "duration": 0.043395,
          "end_time": "2020-09-09T20:17:55.565647",
          "exception": false,
          "start_time": "2020-09-09T20:17:55.522252",
          "status": "completed"
        },
        "tags": [],
        "id": "UteY2dLI7Bam",
        "colab_type": "code",
        "colab": {}
      },
      "source": [
        "def train_loop(\n",
        "    manager, args, model, device,\n",
        "    train_loader, optimizer, scheduler, loss_func\n",
        "):\n",
        "    \"\"\"Run minibatch training loop\"\"\"\n",
        "    while not manager.stop_trigger:\n",
        "        model.train()\n",
        "        for batch_idx, (data, target) in enumerate(train_loader):\n",
        "            with manager.run_iteration():\n",
        "                data, target = data.to(device), target.to(device)\n",
        "                optimizer.zero_grad()\n",
        "                output = model(data)\n",
        "                loss = loss_func(output, target)\n",
        "                ppe.reporting.report({'train/loss': loss.item()})\n",
        "                loss.backward()\n",
        "                optimizer.step()\n",
        "                scheduler.step()\n",
        "\n",
        "def eval_for_batch(\n",
        "    args, model, device,\n",
        "    data, target, loss_func, eval_func_dict={}\n",
        "):\n",
        "    \"\"\"\n",
        "    Run evaliation for valid\n",
        "    \n",
        "    This function is applied to each batch of val loader.\n",
        "    \"\"\"\n",
        "    model.eval()\n",
        "    data, target = data.to(device), target.to(device)\n",
        "    output = model(data)\n",
        "    # Final result will be average of averages of the same size\n",
        "    val_loss = loss_func(output, target).item()\n",
        "    ppe.reporting.report({'val/loss': val_loss})\n",
        "    \n",
        "    for eval_name, eval_func in eval_func_dict.items():\n",
        "        eval_value = eval_func(output, target).item()\n",
        "        ppe.reporting.report({\"val/{}\".format(eval_aame): eval_value})"
      ],
      "execution_count": null,
      "outputs": []
    },
    {
      "cell_type": "code",
      "metadata": {
        "execution": {
          "iopub.execute_input": "2020-09-09T20:17:55.629202Z",
          "iopub.status.busy": "2020-09-09T20:17:55.628162Z",
          "iopub.status.idle": "2020-09-09T20:17:55.631338Z",
          "shell.execute_reply": "2020-09-09T20:17:55.631927Z"
        },
        "papermill": {
          "duration": 0.042926,
          "end_time": "2020-09-09T20:17:55.632087",
          "exception": false,
          "start_time": "2020-09-09T20:17:55.589161",
          "status": "completed"
        },
        "tags": [],
        "id": "t3DxrrdV7Bar",
        "colab_type": "code",
        "colab": {}
      },
      "source": [
        "def set_extensions(\n",
        "    manager, args, model, device, test_loader, optimizer,\n",
        "    loss_func, eval_func_dict={}\n",
        "):\n",
        "    \"\"\"set extensions for PPE\"\"\"\n",
        "        \n",
        "    my_extensions = [\n",
        "        # # observe, report\n",
        "        ppe_extensions.observe_lr(optimizer=optimizer),\n",
        "        # ppe_extensions.ParameterStatistics(model, prefix='model'),\n",
        "        # ppe_extensions.VariableStatisticsPlot(model),\n",
        "        ppe_extensions.LogReport(),\n",
        "        ppe_extensions.PlotReport(['train/loss', 'val/loss'], 'epoch', filename='loss.png'),\n",
        "        ppe_extensions.PlotReport(['lr',], 'epoch', filename='lr.png'),\n",
        "        ppe_extensions.PrintReport([\n",
        "            'epoch', 'iteration', 'lr', 'train/loss', 'val/loss', \"elapsed_time\"]),\n",
        "#         ppe_extensions.ProgressBar(update_interval=100),\n",
        "\n",
        "        # # evaluation\n",
        "        (\n",
        "            ppe_extensions.Evaluator(\n",
        "                test_loader, model,\n",
        "                eval_func=lambda data, target:\n",
        "                    eval_for_batch(args, model, device, data, target, loss_func, eval_func_dict),\n",
        "                progress_bar=True),\n",
        "            (1, \"epoch\"),\n",
        "        ),\n",
        "        # # save model snapshot.\n",
        "        (\n",
        "            ppe_extensions.snapshot(\n",
        "                target=model, filename=\"snapshot_epoch_{.updater.epoch}.pth\"),\n",
        "            ppe.training.triggers.MinValueTrigger(key=\"val/loss\", trigger=(1, 'epoch'))\n",
        "        ),\n",
        "    ]\n",
        "           \n",
        "    # # set extensions to manager\n",
        "    for ext in my_extensions:\n",
        "        if isinstance(ext, tuple):\n",
        "            manager.extend(ext[0], trigger=ext[1])\n",
        "        else:\n",
        "            manager.extend(ext)\n",
        "        \n",
        "    return manager"
      ],
      "execution_count": null,
      "outputs": []
    },
    {
      "cell_type": "code",
      "metadata": {
        "_kg_hide-input": true,
        "execution": {
          "iopub.execute_input": "2020-09-09T20:17:55.689470Z",
          "iopub.status.busy": "2020-09-09T20:17:55.688391Z",
          "iopub.status.idle": "2020-09-09T20:17:55.692080Z",
          "shell.execute_reply": "2020-09-09T20:17:55.691505Z"
        },
        "papermill": {
          "duration": 0.035681,
          "end_time": "2020-09-09T20:17:55.692204",
          "exception": false,
          "start_time": "2020-09-09T20:17:55.656523",
          "status": "completed"
        },
        "tags": [],
        "id": "gmUiHqhN7Bau",
        "colab_type": "code",
        "colab": {}
      },
      "source": [
        "def get_loaders_for_training(\n",
        "    args_dataset: tp.Dict, args_loader: tp.Dict,\n",
        "    train_file_list: tp.List[str], val_file_list: tp.List[str]\n",
        "):\n",
        "    # # make dataset\n",
        "    train_dataset = SpectrogramDataset(train_file_list, **args_dataset)\n",
        "    val_dataset = SpectrogramDataset(val_file_list, **args_dataset)\n",
        "    #train_dataset = SpectrogramDataset(train_file_list, waveform_transforms = get_train_transforms())\n",
        "    #val_dataset = SpectrogramDataset(val_file_list, waveform_transforms  =get_train_transforms())\n",
        "    # # make dataloader\n",
        "    train_loader = data.DataLoader(train_dataset, **args_loader[\"train\"])\n",
        "    val_loader = data.DataLoader(val_dataset, **args_loader[\"val\"])\n",
        "    \n",
        "    return train_loader, val_loader"
      ],
      "execution_count": null,
      "outputs": []
    },
    {
      "cell_type": "markdown",
      "metadata": {
        "papermill": {
          "duration": 0.023675,
          "end_time": "2020-09-09T20:17:55.740131",
          "exception": false,
          "start_time": "2020-09-09T20:17:55.716456",
          "status": "completed"
        },
        "tags": [],
        "id": "aR7BY-jN7Bay",
        "colab_type": "text"
      },
      "source": [
        "## run training"
      ]
    },
    {
      "cell_type": "code",
      "metadata": {
        "execution": {
          "iopub.execute_input": "2020-09-09T20:17:55.802735Z",
          "iopub.status.busy": "2020-09-09T20:17:55.800742Z",
          "iopub.status.idle": "2020-09-09T20:17:55.805489Z",
          "shell.execute_reply": "2020-09-09T20:17:55.801725Z"
        },
        "papermill": {
          "duration": 0.040956,
          "end_time": "2020-09-09T20:17:55.805656",
          "exception": false,
          "start_time": "2020-09-09T20:17:55.764700",
          "status": "completed"
        },
        "tags": [],
        "id": "ntBJfEqU7Bay",
        "colab_type": "code",
        "colab": {}
      },
      "source": [
        "# # # get loader\n",
        "train_loader, val_loader = get_loaders_for_training(\n",
        "    settings[\"dataset\"][\"params\"], settings[\"loader\"], train_file_list, val_file_list)\n",
        "\n",
        "\n",
        "print(len(train_loader))\n",
        "print(len(val_loader))"
      ],
      "execution_count": null,
      "outputs": []
    },
    {
      "cell_type": "code",
      "metadata": {
        "execution": {
          "iopub.execute_input": "2020-09-09T20:17:55.876344Z",
          "iopub.status.busy": "2020-09-09T20:17:55.875298Z",
          "iopub.status.idle": "2020-09-09T20:18:04.262958Z",
          "shell.execute_reply": "2020-09-09T20:18:04.261951Z"
        },
        "papermill": {
          "duration": 8.422927,
          "end_time": "2020-09-09T20:18:04.263084",
          "exception": false,
          "start_time": "2020-09-09T20:17:55.840157",
          "status": "completed"
        },
        "tags": [],
        "id": "Snhs3Ma87Ba3",
        "colab_type": "code",
        "colab": {}
      },
      "source": [
        "set_seed(settings[\"globals\"][\"seed\"])\n",
        "device = torch.device(settings[\"globals\"][\"device\"])\n",
        "output_dir = Path(settings[\"globals\"][\"output_dir\"])\n",
        "\n",
        "# # # get model\n",
        "model = get_model(settings[\"model\"])\n",
        "model = model.to(device)\n",
        "\n",
        "# # # get optimizer\n",
        "optimizer = getattr(\n",
        "    torch.optim, settings[\"optimizer\"][\"name\"]\n",
        ")(model.parameters(), **settings[\"optimizer\"][\"params\"])\n",
        "\n",
        "# # # get scheduler\n",
        "scheduler = getattr(\n",
        "    torch.optim.lr_scheduler, settings[\"scheduler\"][\"name\"]\n",
        ")(optimizer, **settings[\"scheduler\"][\"params\"])\n",
        "\n",
        "# # # get loss\n",
        "loss_func = getattr(nn, settings[\"loss\"][\"name\"])(**settings[\"loss\"][\"params\"])\n",
        "\n",
        "# # # create training manager\n",
        "trigger = None\n",
        "\n",
        "manager = ppe.training.ExtensionsManager(\n",
        "    model, optimizer, settings[\"globals\"][\"num_epochs\"],\n",
        "    iters_per_epoch=len(train_loader),\n",
        "    stop_trigger=trigger,\n",
        "    out_dir=output_dir\n",
        ")\n",
        "\n",
        "# # # set manager extensions\n",
        "manager = set_extensions(\n",
        "    manager, settings, model, device,\n",
        "    val_loader, optimizer, loss_func,\n",
        ")"
      ],
      "execution_count": null,
      "outputs": []
    },
    {
      "cell_type": "code",
      "metadata": {
        "execution": {
          "iopub.execute_input": "2020-09-09T20:18:04.316293Z",
          "iopub.status.busy": "2020-09-09T20:18:04.315489Z",
          "iopub.status.idle": "2020-09-10T02:42:48.387365Z",
          "shell.execute_reply": "2020-09-10T02:42:48.386725Z"
        },
        "papermill": {
          "duration": 23084.101795,
          "end_time": "2020-09-10T02:42:48.387495",
          "exception": false,
          "start_time": "2020-09-09T20:18:04.285700",
          "status": "completed"
        },
        "tags": [],
        "id": "t5N5vdzP7Ba6",
        "colab_type": "code",
        "colab": {}
      },
      "source": [
        "# # run training \n",
        "train_loop(\n",
        "    manager, settings, model, device,\n",
        "    train_loader, optimizer, scheduler, loss_func)"
      ],
      "execution_count": null,
      "outputs": []
    },
    {
      "cell_type": "code",
      "metadata": {
        "execution": {
          "iopub.execute_input": "2020-09-10T02:42:49.117509Z",
          "iopub.status.busy": "2020-09-10T02:42:49.116347Z",
          "iopub.status.idle": "2020-09-10T02:42:49.121469Z",
          "shell.execute_reply": "2020-09-10T02:42:49.121937Z"
        },
        "papermill": {
          "duration": 0.612882,
          "end_time": "2020-09-10T02:42:49.122091",
          "exception": false,
          "start_time": "2020-09-10T02:42:48.509209",
          "status": "completed"
        },
        "tags": [],
        "id": "tThWqwVm7Ba_",
        "colab_type": "code",
        "colab": {}
      },
      "source": [
        "del train_loader\n",
        "del val_loader\n",
        "del model\n",
        "del optimizer\n",
        "del scheduler\n",
        "del loss_func\n",
        "del manager\n",
        "\n",
        "gc.collect()"
      ],
      "execution_count": null,
      "outputs": []
    },
    {
      "cell_type": "markdown",
      "metadata": {
        "papermill": {
          "duration": 0.160408,
          "end_time": "2020-09-10T02:42:49.449697",
          "exception": false,
          "start_time": "2020-09-10T02:42:49.289289",
          "status": "completed"
        },
        "tags": [],
        "id": "ir-5ONd77BbE",
        "colab_type": "text"
      },
      "source": [
        "## save results"
      ]
    },
    {
      "cell_type": "code",
      "metadata": {
        "execution": {
          "iopub.execute_input": "2020-09-10T02:42:49.731401Z",
          "iopub.status.busy": "2020-09-10T02:42:49.730492Z",
          "iopub.status.idle": "2020-09-10T02:42:50.126799Z",
          "shell.execute_reply": "2020-09-10T02:42:50.125573Z"
        },
        "papermill": {
          "duration": 0.554921,
          "end_time": "2020-09-10T02:42:50.126975",
          "exception": false,
          "start_time": "2020-09-10T02:42:49.572054",
          "status": "completed"
        },
        "tags": [],
        "id": "pdmbMkHB7BbE",
        "colab_type": "code",
        "colab": {}
      },
      "source": [
        "%%bash\n",
        "ls /kaggle/training_output"
      ],
      "execution_count": null,
      "outputs": []
    },
    {
      "cell_type": "code",
      "metadata": {
        "execution": {
          "iopub.execute_input": "2020-09-10T02:42:50.441114Z",
          "iopub.status.busy": "2020-09-10T02:42:50.439633Z",
          "iopub.status.idle": "2020-09-10T02:42:50.444428Z",
          "shell.execute_reply": "2020-09-10T02:42:50.443774Z"
        },
        "papermill": {
          "duration": 0.182555,
          "end_time": "2020-09-10T02:42:50.444561",
          "exception": false,
          "start_time": "2020-09-10T02:42:50.262006",
          "status": "completed"
        },
        "tags": [],
        "id": "lep3dfm47BbI",
        "colab_type": "code",
        "colab": {}
      },
      "source": [
        "for f_name in [\"log\",\"loss.png\", \"lr.png\"]:\n",
        "    shutil.copy(output_dir / f_name, f_name)"
      ],
      "execution_count": null,
      "outputs": []
    },
    {
      "cell_type": "code",
      "metadata": {
        "execution": {
          "iopub.execute_input": "2020-09-10T02:42:50.697379Z",
          "iopub.status.busy": "2020-09-10T02:42:50.696578Z",
          "iopub.status.idle": "2020-09-10T02:42:51.181063Z",
          "shell.execute_reply": "2020-09-10T02:42:51.180267Z"
        },
        "papermill": {
          "duration": 0.611484,
          "end_time": "2020-09-10T02:42:51.181195",
          "exception": false,
          "start_time": "2020-09-10T02:42:50.569711",
          "status": "completed"
        },
        "tags": [],
        "id": "y5B2bIKS7BbL",
        "colab_type": "code",
        "colab": {}
      },
      "source": [
        "log = pd.read_json(\"log\")\n",
        "best_epoch = log[\"val/loss\"].idxmin() + 1\n",
        "log.iloc[[best_epoch - 1],]"
      ],
      "execution_count": null,
      "outputs": []
    },
    {
      "cell_type": "code",
      "metadata": {
        "execution": {
          "iopub.execute_input": "2020-09-10T02:42:51.444965Z",
          "iopub.status.busy": "2020-09-10T02:42:51.444016Z",
          "iopub.status.idle": "2020-09-10T02:42:51.575464Z",
          "shell.execute_reply": "2020-09-10T02:42:51.576006Z"
        },
        "papermill": {
          "duration": 0.263105,
          "end_time": "2020-09-10T02:42:51.576149",
          "exception": false,
          "start_time": "2020-09-10T02:42:51.313044",
          "status": "completed"
        },
        "tags": [],
        "id": "OcZ06n-87BbO",
        "colab_type": "code",
        "colab": {}
      },
      "source": [
        "shutil.copy(output_dir / \"snapshot_epoch_{}.pth\".format(best_epoch), \"best_model.pth\")"
      ],
      "execution_count": null,
      "outputs": []
    },
    {
      "cell_type": "code",
      "metadata": {
        "execution": {
          "iopub.execute_input": "2020-09-10T02:42:51.830867Z",
          "iopub.status.busy": "2020-09-10T02:42:51.829877Z",
          "iopub.status.idle": "2020-09-10T02:42:52.547004Z",
          "shell.execute_reply": "2020-09-10T02:42:52.547555Z"
        },
        "papermill": {
          "duration": 0.847984,
          "end_time": "2020-09-10T02:42:52.547701",
          "exception": false,
          "start_time": "2020-09-10T02:42:51.699717",
          "status": "completed"
        },
        "tags": [],
        "id": "qUNxmHX_7BbV",
        "colab_type": "code",
        "colab": {}
      },
      "source": [
        "m = get_model({\n",
        "    'name': settings[\"model\"][\"name\"],\n",
        "    'params': {'pretrained': False, 'n_classes': 264}})\n",
        "state_dict = torch.load('best_model.pth')\n",
        "m.load_state_dict(state_dict)"
      ],
      "execution_count": null,
      "outputs": []
    }
  ]
}