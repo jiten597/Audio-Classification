# Import Libraries
%%bash
pip install ../input/pytorch-pfn-extras/pytorch-pfn-extras-0.2.1/

%%bash
pip install ../input/resnest50-fast-package/resnest-0.0.6b20200701/resnest/

pip install pydub

import os
import re
import gc
import time
import shutil
import random
import warnings
warnings.filterwarnings('ignore')
import typing as tp
from pathlib import Path
from typing import Optional, List
from contextlib import contextmanager

import matplotlib.pyplot as plt
import IPython.display as ipd
from tqdm import tqdm
from pydub import AudioSegment
import albumentations
from albumentations.augmentations import functional as F
from albumentations.core.transforms_interface import DualTransform, BasicTransform

import yaml
from joblib import delayed, Parallel

import cv2
import librosa
import audioread
import soundfile as sf

import numpy as np
import pandas as pd

from catalyst.dl import SupervisedRunner, State, CallbackOrder, Callback, CheckpointCallback

from fastprogress import progress_bar
from sklearn.model_selection import StratifiedKFold
from sklearn.metrics import f1_score, average_precision_score

import torch
import torch.nn as nn
import torch.nn.functional as F
import torch.utils.data as data
import resnest.torch as resnest_torch

import pytorch_pfn_extras as ppe
from pytorch_pfn_extras.training import extensions as ppe_extensions

pd.options.display.max_rows = 500
pd.options.display.max_columns = 500
